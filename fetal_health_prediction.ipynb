{
  "nbformat": 4,
  "nbformat_minor": 0,
  "metadata": {
    "colab": {
      "provenance": []
    },
    "kernelspec": {
      "name": "python3",
      "display_name": "Python 3"
    },
    "language_info": {
      "name": "python"
    }
  },
  "cells": [
    {
      "cell_type": "code",
      "source": [
        "import pandas as pd"
      ],
      "metadata": {
        "id": "bn-Ac7xpHa3o"
      },
      "execution_count": null,
      "outputs": []
    },
    {
      "cell_type": "markdown",
      "source": [
        "Source of Dataset: https://www.kaggle.com/datasets/andrewmvd/fetal-health-classification/data"
      ],
      "metadata": {
        "id": "Sjz2yoXn8RfT"
      }
    },
    {
      "cell_type": "code",
      "execution_count": null,
      "metadata": {
        "colab": {
          "base_uri": "https://localhost:8080/",
          "height": 273
        },
        "id": "nw4FF8hxG9bx",
        "outputId": "0ab670a4-1eb2-42c0-dd42-e85a82a62959"
      },
      "outputs": [
        {
          "output_type": "execute_result",
          "data": {
            "text/plain": [
              "   baseline value  accelerations  fetal_movement  uterine_contractions  \\\n",
              "0           120.0          0.000             0.0                 0.000   \n",
              "1           132.0          0.006             0.0                 0.006   \n",
              "2           133.0          0.003             0.0                 0.008   \n",
              "3           134.0          0.003             0.0                 0.008   \n",
              "4           132.0          0.007             0.0                 0.008   \n",
              "\n",
              "   light_decelerations  severe_decelerations  prolongued_decelerations  \\\n",
              "0                0.000                   0.0                       0.0   \n",
              "1                0.003                   0.0                       0.0   \n",
              "2                0.003                   0.0                       0.0   \n",
              "3                0.003                   0.0                       0.0   \n",
              "4                0.000                   0.0                       0.0   \n",
              "\n",
              "   abnormal_short_term_variability  mean_value_of_short_term_variability  \\\n",
              "0                             73.0                                   0.5   \n",
              "1                             17.0                                   2.1   \n",
              "2                             16.0                                   2.1   \n",
              "3                             16.0                                   2.4   \n",
              "4                             16.0                                   2.4   \n",
              "\n",
              "   percentage_of_time_with_abnormal_long_term_variability  ...  histogram_min  \\\n",
              "0                                               43.0       ...           62.0   \n",
              "1                                                0.0       ...           68.0   \n",
              "2                                                0.0       ...           68.0   \n",
              "3                                                0.0       ...           53.0   \n",
              "4                                                0.0       ...           53.0   \n",
              "\n",
              "   histogram_max  histogram_number_of_peaks  histogram_number_of_zeroes  \\\n",
              "0          126.0                        2.0                         0.0   \n",
              "1          198.0                        6.0                         1.0   \n",
              "2          198.0                        5.0                         1.0   \n",
              "3          170.0                       11.0                         0.0   \n",
              "4          170.0                        9.0                         0.0   \n",
              "\n",
              "   histogram_mode  histogram_mean  histogram_median  histogram_variance  \\\n",
              "0           120.0           137.0             121.0                73.0   \n",
              "1           141.0           136.0             140.0                12.0   \n",
              "2           141.0           135.0             138.0                13.0   \n",
              "3           137.0           134.0             137.0                13.0   \n",
              "4           137.0           136.0             138.0                11.0   \n",
              "\n",
              "   histogram_tendency  fetal_health  \n",
              "0                 1.0           2.0  \n",
              "1                 0.0           1.0  \n",
              "2                 0.0           1.0  \n",
              "3                 1.0           1.0  \n",
              "4                 1.0           1.0  \n",
              "\n",
              "[5 rows x 22 columns]"
            ],
            "text/html": [
              "\n",
              "  <div id=\"df-7bb8f8cf-10d3-4938-85f7-731dd9e80335\" class=\"colab-df-container\">\n",
              "    <div>\n",
              "<style scoped>\n",
              "    .dataframe tbody tr th:only-of-type {\n",
              "        vertical-align: middle;\n",
              "    }\n",
              "\n",
              "    .dataframe tbody tr th {\n",
              "        vertical-align: top;\n",
              "    }\n",
              "\n",
              "    .dataframe thead th {\n",
              "        text-align: right;\n",
              "    }\n",
              "</style>\n",
              "<table border=\"1\" class=\"dataframe\">\n",
              "  <thead>\n",
              "    <tr style=\"text-align: right;\">\n",
              "      <th></th>\n",
              "      <th>baseline value</th>\n",
              "      <th>accelerations</th>\n",
              "      <th>fetal_movement</th>\n",
              "      <th>uterine_contractions</th>\n",
              "      <th>light_decelerations</th>\n",
              "      <th>severe_decelerations</th>\n",
              "      <th>prolongued_decelerations</th>\n",
              "      <th>abnormal_short_term_variability</th>\n",
              "      <th>mean_value_of_short_term_variability</th>\n",
              "      <th>percentage_of_time_with_abnormal_long_term_variability</th>\n",
              "      <th>...</th>\n",
              "      <th>histogram_min</th>\n",
              "      <th>histogram_max</th>\n",
              "      <th>histogram_number_of_peaks</th>\n",
              "      <th>histogram_number_of_zeroes</th>\n",
              "      <th>histogram_mode</th>\n",
              "      <th>histogram_mean</th>\n",
              "      <th>histogram_median</th>\n",
              "      <th>histogram_variance</th>\n",
              "      <th>histogram_tendency</th>\n",
              "      <th>fetal_health</th>\n",
              "    </tr>\n",
              "  </thead>\n",
              "  <tbody>\n",
              "    <tr>\n",
              "      <th>0</th>\n",
              "      <td>120.0</td>\n",
              "      <td>0.000</td>\n",
              "      <td>0.0</td>\n",
              "      <td>0.000</td>\n",
              "      <td>0.000</td>\n",
              "      <td>0.0</td>\n",
              "      <td>0.0</td>\n",
              "      <td>73.0</td>\n",
              "      <td>0.5</td>\n",
              "      <td>43.0</td>\n",
              "      <td>...</td>\n",
              "      <td>62.0</td>\n",
              "      <td>126.0</td>\n",
              "      <td>2.0</td>\n",
              "      <td>0.0</td>\n",
              "      <td>120.0</td>\n",
              "      <td>137.0</td>\n",
              "      <td>121.0</td>\n",
              "      <td>73.0</td>\n",
              "      <td>1.0</td>\n",
              "      <td>2.0</td>\n",
              "    </tr>\n",
              "    <tr>\n",
              "      <th>1</th>\n",
              "      <td>132.0</td>\n",
              "      <td>0.006</td>\n",
              "      <td>0.0</td>\n",
              "      <td>0.006</td>\n",
              "      <td>0.003</td>\n",
              "      <td>0.0</td>\n",
              "      <td>0.0</td>\n",
              "      <td>17.0</td>\n",
              "      <td>2.1</td>\n",
              "      <td>0.0</td>\n",
              "      <td>...</td>\n",
              "      <td>68.0</td>\n",
              "      <td>198.0</td>\n",
              "      <td>6.0</td>\n",
              "      <td>1.0</td>\n",
              "      <td>141.0</td>\n",
              "      <td>136.0</td>\n",
              "      <td>140.0</td>\n",
              "      <td>12.0</td>\n",
              "      <td>0.0</td>\n",
              "      <td>1.0</td>\n",
              "    </tr>\n",
              "    <tr>\n",
              "      <th>2</th>\n",
              "      <td>133.0</td>\n",
              "      <td>0.003</td>\n",
              "      <td>0.0</td>\n",
              "      <td>0.008</td>\n",
              "      <td>0.003</td>\n",
              "      <td>0.0</td>\n",
              "      <td>0.0</td>\n",
              "      <td>16.0</td>\n",
              "      <td>2.1</td>\n",
              "      <td>0.0</td>\n",
              "      <td>...</td>\n",
              "      <td>68.0</td>\n",
              "      <td>198.0</td>\n",
              "      <td>5.0</td>\n",
              "      <td>1.0</td>\n",
              "      <td>141.0</td>\n",
              "      <td>135.0</td>\n",
              "      <td>138.0</td>\n",
              "      <td>13.0</td>\n",
              "      <td>0.0</td>\n",
              "      <td>1.0</td>\n",
              "    </tr>\n",
              "    <tr>\n",
              "      <th>3</th>\n",
              "      <td>134.0</td>\n",
              "      <td>0.003</td>\n",
              "      <td>0.0</td>\n",
              "      <td>0.008</td>\n",
              "      <td>0.003</td>\n",
              "      <td>0.0</td>\n",
              "      <td>0.0</td>\n",
              "      <td>16.0</td>\n",
              "      <td>2.4</td>\n",
              "      <td>0.0</td>\n",
              "      <td>...</td>\n",
              "      <td>53.0</td>\n",
              "      <td>170.0</td>\n",
              "      <td>11.0</td>\n",
              "      <td>0.0</td>\n",
              "      <td>137.0</td>\n",
              "      <td>134.0</td>\n",
              "      <td>137.0</td>\n",
              "      <td>13.0</td>\n",
              "      <td>1.0</td>\n",
              "      <td>1.0</td>\n",
              "    </tr>\n",
              "    <tr>\n",
              "      <th>4</th>\n",
              "      <td>132.0</td>\n",
              "      <td>0.007</td>\n",
              "      <td>0.0</td>\n",
              "      <td>0.008</td>\n",
              "      <td>0.000</td>\n",
              "      <td>0.0</td>\n",
              "      <td>0.0</td>\n",
              "      <td>16.0</td>\n",
              "      <td>2.4</td>\n",
              "      <td>0.0</td>\n",
              "      <td>...</td>\n",
              "      <td>53.0</td>\n",
              "      <td>170.0</td>\n",
              "      <td>9.0</td>\n",
              "      <td>0.0</td>\n",
              "      <td>137.0</td>\n",
              "      <td>136.0</td>\n",
              "      <td>138.0</td>\n",
              "      <td>11.0</td>\n",
              "      <td>1.0</td>\n",
              "      <td>1.0</td>\n",
              "    </tr>\n",
              "  </tbody>\n",
              "</table>\n",
              "<p>5 rows × 22 columns</p>\n",
              "</div>\n",
              "    <div class=\"colab-df-buttons\">\n",
              "\n",
              "  <div class=\"colab-df-container\">\n",
              "    <button class=\"colab-df-convert\" onclick=\"convertToInteractive('df-7bb8f8cf-10d3-4938-85f7-731dd9e80335')\"\n",
              "            title=\"Convert this dataframe to an interactive table.\"\n",
              "            style=\"display:none;\">\n",
              "\n",
              "  <svg xmlns=\"http://www.w3.org/2000/svg\" height=\"24px\" viewBox=\"0 -960 960 960\">\n",
              "    <path d=\"M120-120v-720h720v720H120Zm60-500h600v-160H180v160Zm220 220h160v-160H400v160Zm0 220h160v-160H400v160ZM180-400h160v-160H180v160Zm440 0h160v-160H620v160ZM180-180h160v-160H180v160Zm440 0h160v-160H620v160Z\"/>\n",
              "  </svg>\n",
              "    </button>\n",
              "\n",
              "  <style>\n",
              "    .colab-df-container {\n",
              "      display:flex;\n",
              "      gap: 12px;\n",
              "    }\n",
              "\n",
              "    .colab-df-convert {\n",
              "      background-color: #E8F0FE;\n",
              "      border: none;\n",
              "      border-radius: 50%;\n",
              "      cursor: pointer;\n",
              "      display: none;\n",
              "      fill: #1967D2;\n",
              "      height: 32px;\n",
              "      padding: 0 0 0 0;\n",
              "      width: 32px;\n",
              "    }\n",
              "\n",
              "    .colab-df-convert:hover {\n",
              "      background-color: #E2EBFA;\n",
              "      box-shadow: 0px 1px 2px rgba(60, 64, 67, 0.3), 0px 1px 3px 1px rgba(60, 64, 67, 0.15);\n",
              "      fill: #174EA6;\n",
              "    }\n",
              "\n",
              "    .colab-df-buttons div {\n",
              "      margin-bottom: 4px;\n",
              "    }\n",
              "\n",
              "    [theme=dark] .colab-df-convert {\n",
              "      background-color: #3B4455;\n",
              "      fill: #D2E3FC;\n",
              "    }\n",
              "\n",
              "    [theme=dark] .colab-df-convert:hover {\n",
              "      background-color: #434B5C;\n",
              "      box-shadow: 0px 1px 3px 1px rgba(0, 0, 0, 0.15);\n",
              "      filter: drop-shadow(0px 1px 2px rgba(0, 0, 0, 0.3));\n",
              "      fill: #FFFFFF;\n",
              "    }\n",
              "  </style>\n",
              "\n",
              "    <script>\n",
              "      const buttonEl =\n",
              "        document.querySelector('#df-7bb8f8cf-10d3-4938-85f7-731dd9e80335 button.colab-df-convert');\n",
              "      buttonEl.style.display =\n",
              "        google.colab.kernel.accessAllowed ? 'block' : 'none';\n",
              "\n",
              "      async function convertToInteractive(key) {\n",
              "        const element = document.querySelector('#df-7bb8f8cf-10d3-4938-85f7-731dd9e80335');\n",
              "        const dataTable =\n",
              "          await google.colab.kernel.invokeFunction('convertToInteractive',\n",
              "                                                    [key], {});\n",
              "        if (!dataTable) return;\n",
              "\n",
              "        const docLinkHtml = 'Like what you see? Visit the ' +\n",
              "          '<a target=\"_blank\" href=https://colab.research.google.com/notebooks/data_table.ipynb>data table notebook</a>'\n",
              "          + ' to learn more about interactive tables.';\n",
              "        element.innerHTML = '';\n",
              "        dataTable['output_type'] = 'display_data';\n",
              "        await google.colab.output.renderOutput(dataTable, element);\n",
              "        const docLink = document.createElement('div');\n",
              "        docLink.innerHTML = docLinkHtml;\n",
              "        element.appendChild(docLink);\n",
              "      }\n",
              "    </script>\n",
              "  </div>\n",
              "\n",
              "\n",
              "<div id=\"df-0d9cdfa1-f32d-4c41-a51a-72cba344cecc\">\n",
              "  <button class=\"colab-df-quickchart\" onclick=\"quickchart('df-0d9cdfa1-f32d-4c41-a51a-72cba344cecc')\"\n",
              "            title=\"Suggest charts\"\n",
              "            style=\"display:none;\">\n",
              "\n",
              "<svg xmlns=\"http://www.w3.org/2000/svg\" height=\"24px\"viewBox=\"0 0 24 24\"\n",
              "     width=\"24px\">\n",
              "    <g>\n",
              "        <path d=\"M19 3H5c-1.1 0-2 .9-2 2v14c0 1.1.9 2 2 2h14c1.1 0 2-.9 2-2V5c0-1.1-.9-2-2-2zM9 17H7v-7h2v7zm4 0h-2V7h2v10zm4 0h-2v-4h2v4z\"/>\n",
              "    </g>\n",
              "</svg>\n",
              "  </button>\n",
              "\n",
              "<style>\n",
              "  .colab-df-quickchart {\n",
              "      --bg-color: #E8F0FE;\n",
              "      --fill-color: #1967D2;\n",
              "      --hover-bg-color: #E2EBFA;\n",
              "      --hover-fill-color: #174EA6;\n",
              "      --disabled-fill-color: #AAA;\n",
              "      --disabled-bg-color: #DDD;\n",
              "  }\n",
              "\n",
              "  [theme=dark] .colab-df-quickchart {\n",
              "      --bg-color: #3B4455;\n",
              "      --fill-color: #D2E3FC;\n",
              "      --hover-bg-color: #434B5C;\n",
              "      --hover-fill-color: #FFFFFF;\n",
              "      --disabled-bg-color: #3B4455;\n",
              "      --disabled-fill-color: #666;\n",
              "  }\n",
              "\n",
              "  .colab-df-quickchart {\n",
              "    background-color: var(--bg-color);\n",
              "    border: none;\n",
              "    border-radius: 50%;\n",
              "    cursor: pointer;\n",
              "    display: none;\n",
              "    fill: var(--fill-color);\n",
              "    height: 32px;\n",
              "    padding: 0;\n",
              "    width: 32px;\n",
              "  }\n",
              "\n",
              "  .colab-df-quickchart:hover {\n",
              "    background-color: var(--hover-bg-color);\n",
              "    box-shadow: 0 1px 2px rgba(60, 64, 67, 0.3), 0 1px 3px 1px rgba(60, 64, 67, 0.15);\n",
              "    fill: var(--button-hover-fill-color);\n",
              "  }\n",
              "\n",
              "  .colab-df-quickchart-complete:disabled,\n",
              "  .colab-df-quickchart-complete:disabled:hover {\n",
              "    background-color: var(--disabled-bg-color);\n",
              "    fill: var(--disabled-fill-color);\n",
              "    box-shadow: none;\n",
              "  }\n",
              "\n",
              "  .colab-df-spinner {\n",
              "    border: 2px solid var(--fill-color);\n",
              "    border-color: transparent;\n",
              "    border-bottom-color: var(--fill-color);\n",
              "    animation:\n",
              "      spin 1s steps(1) infinite;\n",
              "  }\n",
              "\n",
              "  @keyframes spin {\n",
              "    0% {\n",
              "      border-color: transparent;\n",
              "      border-bottom-color: var(--fill-color);\n",
              "      border-left-color: var(--fill-color);\n",
              "    }\n",
              "    20% {\n",
              "      border-color: transparent;\n",
              "      border-left-color: var(--fill-color);\n",
              "      border-top-color: var(--fill-color);\n",
              "    }\n",
              "    30% {\n",
              "      border-color: transparent;\n",
              "      border-left-color: var(--fill-color);\n",
              "      border-top-color: var(--fill-color);\n",
              "      border-right-color: var(--fill-color);\n",
              "    }\n",
              "    40% {\n",
              "      border-color: transparent;\n",
              "      border-right-color: var(--fill-color);\n",
              "      border-top-color: var(--fill-color);\n",
              "    }\n",
              "    60% {\n",
              "      border-color: transparent;\n",
              "      border-right-color: var(--fill-color);\n",
              "    }\n",
              "    80% {\n",
              "      border-color: transparent;\n",
              "      border-right-color: var(--fill-color);\n",
              "      border-bottom-color: var(--fill-color);\n",
              "    }\n",
              "    90% {\n",
              "      border-color: transparent;\n",
              "      border-bottom-color: var(--fill-color);\n",
              "    }\n",
              "  }\n",
              "</style>\n",
              "\n",
              "  <script>\n",
              "    async function quickchart(key) {\n",
              "      const quickchartButtonEl =\n",
              "        document.querySelector('#' + key + ' button');\n",
              "      quickchartButtonEl.disabled = true;  // To prevent multiple clicks.\n",
              "      quickchartButtonEl.classList.add('colab-df-spinner');\n",
              "      try {\n",
              "        const charts = await google.colab.kernel.invokeFunction(\n",
              "            'suggestCharts', [key], {});\n",
              "      } catch (error) {\n",
              "        console.error('Error during call to suggestCharts:', error);\n",
              "      }\n",
              "      quickchartButtonEl.classList.remove('colab-df-spinner');\n",
              "      quickchartButtonEl.classList.add('colab-df-quickchart-complete');\n",
              "    }\n",
              "    (() => {\n",
              "      let quickchartButtonEl =\n",
              "        document.querySelector('#df-0d9cdfa1-f32d-4c41-a51a-72cba344cecc button');\n",
              "      quickchartButtonEl.style.display =\n",
              "        google.colab.kernel.accessAllowed ? 'block' : 'none';\n",
              "    })();\n",
              "  </script>\n",
              "</div>\n",
              "    </div>\n",
              "  </div>\n"
            ]
          },
          "metadata": {},
          "execution_count": 2
        }
      ],
      "source": [
        "# load the dataset\n",
        "df = pd.read_csv('fetal_health.csv')\n",
        "df.head()"
      ]
    },
    {
      "cell_type": "markdown",
      "source": [
        "## Data Preprocessing"
      ],
      "metadata": {
        "id": "cwZiPJ-dH6JA"
      }
    },
    {
      "cell_type": "markdown",
      "source": [
        "### Deal with missing value"
      ],
      "metadata": {
        "id": "M2dRB8GJIFPi"
      }
    },
    {
      "cell_type": "code",
      "source": [
        "# detect missing value if any\n",
        "df.isnull().sum()"
      ],
      "metadata": {
        "colab": {
          "base_uri": "https://localhost:8080/"
        },
        "id": "HO4vtaPtH9ys",
        "outputId": "57b60677-224a-49a3-d50e-404b6252d34b"
      },
      "execution_count": null,
      "outputs": [
        {
          "output_type": "execute_result",
          "data": {
            "text/plain": [
              "baseline value                                            0\n",
              "accelerations                                             0\n",
              "fetal_movement                                            0\n",
              "uterine_contractions                                      0\n",
              "light_decelerations                                       0\n",
              "severe_decelerations                                      0\n",
              "prolongued_decelerations                                  0\n",
              "abnormal_short_term_variability                           0\n",
              "mean_value_of_short_term_variability                      0\n",
              "percentage_of_time_with_abnormal_long_term_variability    0\n",
              "mean_value_of_long_term_variability                       0\n",
              "histogram_width                                           0\n",
              "histogram_min                                             0\n",
              "histogram_max                                             0\n",
              "histogram_number_of_peaks                                 0\n",
              "histogram_number_of_zeroes                                0\n",
              "histogram_mode                                            0\n",
              "histogram_mean                                            0\n",
              "histogram_median                                          0\n",
              "histogram_variance                                        0\n",
              "histogram_tendency                                        0\n",
              "fetal_health                                              0\n",
              "dtype: int64"
            ]
          },
          "metadata": {},
          "execution_count": 3
        }
      ]
    },
    {
      "cell_type": "markdown",
      "source": [
        "There is no missing value in this dataset."
      ],
      "metadata": {
        "id": "DGt9wAb7IJVG"
      }
    },
    {
      "cell_type": "markdown",
      "source": [
        "### Removing Duplicate Rows"
      ],
      "metadata": {
        "id": "Kon2tCHvIN09"
      }
    },
    {
      "cell_type": "code",
      "source": [
        "# removed duplicate entries from the dataset\n",
        "df = df.drop_duplicates()"
      ],
      "metadata": {
        "id": "aV-gEtCsIM5R"
      },
      "execution_count": null,
      "outputs": []
    },
    {
      "cell_type": "markdown",
      "source": [
        "### Handle outliers"
      ],
      "metadata": {
        "id": "HPAH3xkxI_yo"
      }
    },
    {
      "cell_type": "code",
      "source": [
        "def count_outliers(data):\n",
        "    \"\"\"\n",
        "    Function to count the number of outliers in each feature of the dataset using the IQR method.\n",
        "\n",
        "    Parameters:\n",
        "    data (DataFrame): The pandas DataFrame to analyze.\n",
        "\n",
        "    Returns:\n",
        "    DataFrame: A DataFrame with the count of outliers for each feature.\n",
        "    \"\"\"\n",
        "    Q1 = data.quantile(0.25)\n",
        "    Q3 = data.quantile(0.75)\n",
        "    IQR = Q3 - Q1\n",
        "\n",
        "    # Outlier conditions\n",
        "    lower_bound = Q1 - 1.5 * IQR\n",
        "    upper_bound = Q3 + 1.5 * IQR\n",
        "\n",
        "    # Counting outliers for each column\n",
        "    outliers = ((data < lower_bound) | (data > upper_bound)).sum()\n",
        "\n",
        "    return outliers\n",
        "\n",
        "# Counting outliers in the dataset (excluding the target variable 'fetal_health')\n",
        "outlier_counts = count_outliers(df.iloc[:, :-1])\n",
        "outlier_counts"
      ],
      "metadata": {
        "colab": {
          "base_uri": "https://localhost:8080/"
        },
        "id": "pTW9X92zLXtE",
        "outputId": "b65c8f09-2c28-45c8-fda6-92de55fe5a34"
      },
      "execution_count": null,
      "outputs": [
        {
          "output_type": "execute_result",
          "data": {
            "text/plain": [
              "baseline value                                              0\n",
              "accelerations                                              14\n",
              "fetal_movement                                            305\n",
              "uterine_contractions                                        1\n",
              "light_decelerations                                       150\n",
              "severe_decelerations                                        7\n",
              "prolongued_decelerations                                  178\n",
              "abnormal_short_term_variability                             0\n",
              "mean_value_of_short_term_variability                       70\n",
              "percentage_of_time_with_abnormal_long_term_variability    305\n",
              "mean_value_of_long_term_variability                        71\n",
              "histogram_width                                             0\n",
              "histogram_min                                               0\n",
              "histogram_max                                              24\n",
              "histogram_number_of_peaks                                  19\n",
              "histogram_number_of_zeroes                                502\n",
              "histogram_mode                                             73\n",
              "histogram_mean                                             45\n",
              "histogram_median                                           28\n",
              "histogram_variance                                        184\n",
              "histogram_tendency                                          0\n",
              "dtype: int64"
            ]
          },
          "metadata": {},
          "execution_count": 5
        }
      ]
    },
    {
      "cell_type": "markdown",
      "source": [
        "In total, several features have a significant number of outliers. However, in the context of this dataset, there are important reasons for not automatically removing these outliers.\n",
        "\n",
        "In medical datasets like this one, what might appear as outliers could represent clinically significant cases. These extreme values might be indicative of unusual but important medical conditions that are critical for the model to learn from.\n",
        "\n",
        "Also, if we remove too many data points, the remaining dataset might not be representative of the real-world diversity, leading the model to overfit on the reduced dataset. Models trained on a more comprehensive range of data, including outliers, can be more robust and perform better in diverse scenarios."
      ],
      "metadata": {
        "id": "nvVDfIAlLmm4"
      }
    },
    {
      "cell_type": "markdown",
      "source": [
        "### Feature Selection"
      ],
      "metadata": {
        "id": "KRcYmQ0gMKXg"
      }
    },
    {
      "cell_type": "markdown",
      "source": [
        "While feature selection is not always strictly necessary, especially with datasets of moderate size and models that handle many features well, it can provide benefits in terms of model performance, efficiency, and interpretability. Thus, I decided to add this process in the preprocessing part."
      ],
      "metadata": {
        "id": "k4By_pnpUCyh"
      }
    },
    {
      "cell_type": "code",
      "source": [
        "from sklearn.ensemble import RandomForestClassifier\n",
        "from sklearn.feature_selection import SelectFromModel\n",
        "\n",
        "# Define features (X) and target (y)\n",
        "X = df.drop('fetal_health', axis=1)\n",
        "y = df['fetal_health']\n",
        "\n",
        "# Initialize Random Forest Classifier\n",
        "rf = RandomForestClassifier(n_estimators=100, random_state=42)\n",
        "rf.fit(X, y)  # Fit the model on the entire dataset\n",
        "\n",
        "# Feature selection using SelectFromModel\n",
        "selector = SelectFromModel(rf, prefit=True)\n",
        "\n",
        "# Transform the dataset to include only selected features\n",
        "X_selected = selector.transform(X)\n",
        "\n",
        "# Get the names of the selected features\n",
        "selected_features = X.columns[selector.get_support()]\n",
        "\n",
        "# Print the selected features\n",
        "print(\"Selected features:\", selected_features)"
      ],
      "metadata": {
        "colab": {
          "base_uri": "https://localhost:8080/"
        },
        "id": "1L4x8i3MRieD",
        "outputId": "2f7c64e0-f3f0-481e-e1cd-f78b85507f31"
      },
      "execution_count": null,
      "outputs": [
        {
          "output_type": "stream",
          "name": "stdout",
          "text": [
            "Selected features: Index(['prolongued_decelerations', 'abnormal_short_term_variability',\n",
            "       'mean_value_of_short_term_variability',\n",
            "       'percentage_of_time_with_abnormal_long_term_variability',\n",
            "       'histogram_mode', 'histogram_mean', 'histogram_median'],\n",
            "      dtype='object')\n"
          ]
        },
        {
          "output_type": "stream",
          "name": "stderr",
          "text": [
            "/usr/local/lib/python3.10/dist-packages/sklearn/base.py:432: UserWarning: X has feature names, but SelectFromModel was fitted without feature names\n",
            "  warnings.warn(\n"
          ]
        }
      ]
    },
    {
      "cell_type": "code",
      "source": [
        "selected_features"
      ],
      "metadata": {
        "colab": {
          "base_uri": "https://localhost:8080/"
        },
        "id": "WXbFlL7ARibV",
        "outputId": "78234800-5ffe-4aa5-f516-0a6fd639b6e6"
      },
      "execution_count": null,
      "outputs": [
        {
          "output_type": "execute_result",
          "data": {
            "text/plain": [
              "Index(['prolongued_decelerations', 'abnormal_short_term_variability',\n",
              "       'mean_value_of_short_term_variability',\n",
              "       'percentage_of_time_with_abnormal_long_term_variability',\n",
              "       'histogram_mode', 'histogram_mean', 'histogram_median'],\n",
              "      dtype='object')"
            ]
          },
          "metadata": {},
          "execution_count": 7
        }
      ]
    },
    {
      "cell_type": "markdown",
      "source": [
        "I found it better to not use feature selection. Thus, I did not use it in the following process of training models."
      ],
      "metadata": {
        "id": "E6eW4WjVCioH"
      }
    },
    {
      "cell_type": "markdown",
      "source": [
        "### Train-test Split"
      ],
      "metadata": {
        "id": "bfCmRdVaUReF"
      }
    },
    {
      "cell_type": "code",
      "source": [
        "from sklearn.model_selection import train_test_split\n",
        "\n",
        "X_selected = X[selected_features]\n",
        "# Assuming X and y are already defined:\n",
        "# X: Feature set\n",
        "# y: Target variable\n",
        "\n",
        "# Splitting the data into training and testing sets\n",
        "# We're using a test size of 20% and a stratified split based on the target variable.\n",
        "X_train, X_test, y_train, y_test = train_test_split(X, y, test_size=0.2, random_state=42, stratify=y)\n",
        "\n",
        "# Showing the shapes of the resulting splits\n",
        "print(\"Training set (features):\", X_train.shape)\n",
        "print(\"Testing set (features):\", X_test.shape)\n",
        "print(\"Training set (target):\", y_train.shape)\n",
        "print(\"Testing set (target):\", y_test.shape)"
      ],
      "metadata": {
        "colab": {
          "base_uri": "https://localhost:8080/"
        },
        "id": "wa53fRhwRiZE",
        "outputId": "e7bd62d5-90d0-4e18-88f8-58e4e2058e11"
      },
      "execution_count": null,
      "outputs": [
        {
          "output_type": "stream",
          "name": "stdout",
          "text": [
            "Training set (features): (1690, 21)\n",
            "Testing set (features): (423, 21)\n",
            "Training set (target): (1690,)\n",
            "Testing set (target): (423,)\n"
          ]
        }
      ]
    },
    {
      "cell_type": "markdown",
      "source": [
        "## Modelling"
      ],
      "metadata": {
        "id": "4Ht6V7RiYAu3"
      }
    },
    {
      "cell_type": "markdown",
      "source": [
        "### KNN"
      ],
      "metadata": {
        "id": "GIIMyB90d2WX"
      }
    },
    {
      "cell_type": "code",
      "source": [
        "from sklearn.model_selection import GridSearchCV\n",
        "from sklearn.neighbors import KNeighborsClassifier\n",
        "\n",
        "# Define the model\n",
        "knn = KNeighborsClassifier()\n",
        "\n",
        "# Define the parameter grid: values of n_neighbors you want to test\n",
        "param_grid = {'n_neighbors': range(1, 31)}  # Testing values from 1 to 30\n",
        "\n",
        "# Grid search with cross-validation\n",
        "grid_search = GridSearchCV(knn, param_grid, cv=5, scoring='accuracy')  # 5-fold cross-validation\n",
        "grid_search.fit(X_train, y_train)\n",
        "\n",
        "# Best number of neighbors\n",
        "best_n = grid_search.best_params_['n_neighbors']\n",
        "print(\"Best number of neighbors:\", best_n)"
      ],
      "metadata": {
        "colab": {
          "base_uri": "https://localhost:8080/"
        },
        "id": "Ra6AOWj4bkOW",
        "outputId": "70e6a836-600f-4324-8700-c2de2ef1bc46"
      },
      "execution_count": null,
      "outputs": [
        {
          "output_type": "stream",
          "name": "stdout",
          "text": [
            "Best number of neighbors: 3\n"
          ]
        }
      ]
    },
    {
      "cell_type": "code",
      "source": [
        "from sklearn.preprocessing import StandardScaler\n",
        "from sklearn.metrics import classification_report, accuracy_score\n",
        "\n",
        "# Standardizing the training and testing data\n",
        "scaler = StandardScaler()\n",
        "X_train_scaled = scaler.fit_transform(X_train)\n",
        "X_test_scaled = scaler.transform(X_test)\n",
        "\n",
        "# Initialize KNN with a chosen number of neighbors, 3\n",
        "knn = KNeighborsClassifier(n_neighbors=3)\n",
        "\n",
        "# Train the KNN model\n",
        "knn.fit(X_train_scaled, y_train)\n",
        "\n",
        "# Predict on the test set\n",
        "y_pred = knn.predict(X_test_scaled)\n",
        "\n",
        "# Evaluate the model\n",
        "accuracy = accuracy_score(y_test, y_pred)\n",
        "class_report = classification_report(y_test, y_pred)\n",
        "\n",
        "print(\"Accuracy:\", accuracy)\n",
        "print(\"Classification Report:\\n\", class_report)"
      ],
      "metadata": {
        "colab": {
          "base_uri": "https://localhost:8080/"
        },
        "id": "rKvIDoe2RiQ8",
        "outputId": "423341e0-1878-4adb-9f9e-40a703fddbc9"
      },
      "execution_count": null,
      "outputs": [
        {
          "output_type": "stream",
          "name": "stdout",
          "text": [
            "Accuracy: 0.9078014184397163\n",
            "Classification Report:\n",
            "               precision    recall  f1-score   support\n",
            "\n",
            "         1.0       0.94      0.98      0.96       330\n",
            "         2.0       0.73      0.62      0.67        58\n",
            "         3.0       0.86      0.71      0.78        35\n",
            "\n",
            "    accuracy                           0.91       423\n",
            "   macro avg       0.84      0.77      0.80       423\n",
            "weighted avg       0.90      0.91      0.90       423\n",
            "\n"
          ]
        }
      ]
    },
    {
      "cell_type": "markdown",
      "source": [
        "### SVM"
      ],
      "metadata": {
        "id": "wE5hF8xUd44W"
      }
    },
    {
      "cell_type": "code",
      "source": [
        "from sklearn.svm import SVC\n",
        "from sklearn.metrics import accuracy_score, classification_report\n",
        "\n",
        "# Train a Support Vector Machine (SVM) model\n",
        "svm_model = SVC(kernel='linear')\n",
        "svm_model.fit(X_train_scaled, y_train)\n",
        "\n",
        "# Predict on the test set\n",
        "y_pred_svm = svm_model.predict(X_test_scaled)\n",
        "\n",
        "# Evaluate the SVM model\n",
        "accuracy_svm = accuracy_score(y_test, y_pred_svm)\n",
        "class_report_svm = classification_report(y_test, y_pred_svm)\n",
        "\n",
        "print(\"Accuracy:\", accuracy_svm)\n",
        "print(\"Classification Report:\\n\", class_report_svm)"
      ],
      "metadata": {
        "colab": {
          "base_uri": "https://localhost:8080/"
        },
        "id": "XoBfynO_RiOw",
        "outputId": "224a6da1-934e-40e4-8421-fea9400d5211"
      },
      "execution_count": null,
      "outputs": [
        {
          "output_type": "stream",
          "name": "stdout",
          "text": [
            "Accuracy: 0.8936170212765957\n",
            "Classification Report:\n",
            "               precision    recall  f1-score   support\n",
            "\n",
            "         1.0       0.92      0.97      0.95       330\n",
            "         2.0       0.68      0.55      0.61        58\n",
            "         3.0       0.87      0.77      0.82        35\n",
            "\n",
            "    accuracy                           0.89       423\n",
            "   macro avg       0.83      0.76      0.79       423\n",
            "weighted avg       0.89      0.89      0.89       423\n",
            "\n"
          ]
        }
      ]
    },
    {
      "cell_type": "code",
      "source": [
        "from sklearn.model_selection import GridSearchCV\n",
        "from sklearn.svm import SVC\n",
        "\n",
        "# Define the parameter grid: include different kernels and other hyperparameters\n",
        "param_grid = {\n",
        "    'kernel': ['linear', 'rbf', 'poly'],\n",
        "    'C': [1, 10, 100],\n",
        "    'gamma': [0.01, 0.1, 1]  # Only used for 'rbf' and 'poly'\n",
        "}\n",
        "\n",
        "# Grid search with cross-validation\n",
        "grid_search = GridSearchCV(SVC(), param_grid, cv=5, scoring='accuracy')\n",
        "grid_search.fit(X_train_scaled, y_train)\n",
        "\n",
        "# Best parameters and kernel\n",
        "best_params = grid_search.best_params_\n",
        "best_kernel = best_params['kernel']\n",
        "\n",
        "print(\"Best kernel:\", best_kernel)\n",
        "print(\"Best parameters:\", best_params)\n"
      ],
      "metadata": {
        "colab": {
          "base_uri": "https://localhost:8080/"
        },
        "id": "bJfIIoxIf7uV",
        "outputId": "02bd3790-1db6-4545-e43f-23befd995b10"
      },
      "execution_count": null,
      "outputs": [
        {
          "output_type": "stream",
          "name": "stdout",
          "text": [
            "Best kernel: rbf\n",
            "Best parameters: {'C': 100, 'gamma': 0.01, 'kernel': 'rbf'}\n"
          ]
        }
      ]
    },
    {
      "cell_type": "code",
      "source": [
        "# Train a Support Vector Machine (SVM) model with the identified best parameters\n",
        "svm_model_optimized = SVC(kernel='rbf', C=100, gamma=0.01)\n",
        "svm_model_optimized.fit(X_train_scaled, y_train)\n",
        "\n",
        "# Predict on the test set using the optimized model\n",
        "y_pred_svm_optimized = svm_model_optimized.predict(X_test_scaled)\n",
        "\n",
        "# Evaluate the optimized SVM model\n",
        "accuracy_svm_optimized = accuracy_score(y_test, y_pred_svm_optimized)\n",
        "class_report_svm_optimized = classification_report(y_test, y_pred_svm_optimized)\n",
        "\n",
        "print(\"Accuracy:\", accuracy_svm_optimized)\n",
        "print(\"Classification Report:\\n\", class_report_svm_optimized)"
      ],
      "metadata": {
        "colab": {
          "base_uri": "https://localhost:8080/"
        },
        "id": "IO4tKHaoRiLn",
        "outputId": "8de18167-9758-429a-cfb5-ba1583336893"
      },
      "execution_count": null,
      "outputs": [
        {
          "output_type": "stream",
          "name": "stdout",
          "text": [
            "Accuracy: 0.9030732860520094\n",
            "Classification Report:\n",
            "               precision    recall  f1-score   support\n",
            "\n",
            "         1.0       0.93      0.97      0.95       330\n",
            "         2.0       0.74      0.59      0.65        58\n",
            "         3.0       0.90      0.77      0.83        35\n",
            "\n",
            "    accuracy                           0.90       423\n",
            "   macro avg       0.85      0.78      0.81       423\n",
            "weighted avg       0.90      0.90      0.90       423\n",
            "\n"
          ]
        }
      ]
    },
    {
      "cell_type": "markdown",
      "source": [
        "### Decision Tree"
      ],
      "metadata": {
        "id": "qeXWh76srs7I"
      }
    },
    {
      "cell_type": "code",
      "source": [
        "from sklearn.tree import DecisionTreeClassifier\n",
        "from sklearn.model_selection import GridSearchCV\n",
        "\n",
        "# Define the parameter grid\n",
        "param_grid = {\n",
        "    'max_depth': [None, 10, 20, 30, 40, 50],  # None means no limit\n",
        "    'min_samples_split': [2, 5, 10],\n",
        "    'min_samples_leaf': [1, 2, 4]\n",
        "}\n",
        "\n",
        "# Initialize the Decision Tree Classifier\n",
        "dt = DecisionTreeClassifier(random_state=42)\n",
        "\n",
        "# Initialize the Grid Search with Cross-Validation\n",
        "grid_search = GridSearchCV(estimator=dt, param_grid=param_grid, cv=5, scoring='accuracy')\n",
        "\n",
        "# Fit the grid search to the data\n",
        "grid_search.fit(X_train_scaled, y_train)\n",
        "\n",
        "# Find the best parameters\n",
        "best_params = grid_search.best_params_\n",
        "print(\"Best Parameters:\", best_params)"
      ],
      "metadata": {
        "colab": {
          "base_uri": "https://localhost:8080/"
        },
        "id": "X4eBtHuwRiI-",
        "outputId": "feddc1a6-25b5-4c98-c426-953915dce053"
      },
      "execution_count": null,
      "outputs": [
        {
          "output_type": "stream",
          "name": "stdout",
          "text": [
            "Best Parameters: {'max_depth': 10, 'min_samples_leaf': 2, 'min_samples_split': 5}\n"
          ]
        }
      ]
    },
    {
      "cell_type": "code",
      "source": [
        "best_dt = grid_search.best_estimator_\n",
        "\n",
        "# Predict on the test set using the best model\n",
        "y_pred_best_dt = best_dt.predict(X_test_scaled)\n",
        "\n",
        "# Evaluate the best Decision Tree model\n",
        "accuracy_best_dt = accuracy_score(y_test, y_pred_best_dt)\n",
        "class_report_best_dt = classification_report(y_test, y_pred_best_dt)\n",
        "\n",
        "print(\"Accuracy of Best Model:\", accuracy_best_dt)\n",
        "print(\"Classification Report of Best Model:\\n\", class_report_best_dt)\n"
      ],
      "metadata": {
        "colab": {
          "base_uri": "https://localhost:8080/"
        },
        "id": "mtPtn_1Rr4Hz",
        "outputId": "93ce5c64-975a-462f-9955-a3d66f5ff327"
      },
      "execution_count": null,
      "outputs": [
        {
          "output_type": "stream",
          "name": "stdout",
          "text": [
            "Accuracy of Best Model: 0.9361702127659575\n",
            "Classification Report of Best Model:\n",
            "               precision    recall  f1-score   support\n",
            "\n",
            "         1.0       0.94      0.98      0.96       330\n",
            "         2.0       0.87      0.69      0.77        58\n",
            "         3.0       1.00      0.91      0.96        35\n",
            "\n",
            "    accuracy                           0.94       423\n",
            "   macro avg       0.94      0.86      0.89       423\n",
            "weighted avg       0.93      0.94      0.93       423\n",
            "\n"
          ]
        }
      ]
    },
    {
      "cell_type": "markdown",
      "source": [
        "### Random Forest"
      ],
      "metadata": {
        "id": "G8SeAQrmr-wj"
      }
    },
    {
      "cell_type": "code",
      "source": [
        "from sklearn.ensemble import RandomForestClassifier\n",
        "from sklearn.model_selection import GridSearchCV\n",
        "\n",
        "# Define the parameter grid: specify the parameters and the values you want to test\n",
        "param_grid = {\n",
        "    'n_estimators': [100, 200, 300],  # Number of trees in the forest\n",
        "    'max_depth': [None, 10, 20, 30]   # Maximum depth of the tree\n",
        "}\n",
        "\n",
        "# Initialize the Random Forest Classifier\n",
        "rf = RandomForestClassifier(random_state=42)\n",
        "\n",
        "# Initialize the Grid Search with Cross-Validation\n",
        "grid_search = GridSearchCV(estimator=rf, param_grid=param_grid, cv=5, scoring='accuracy', verbose=2)\n",
        "\n",
        "# Fit the grid search to the data\n",
        "grid_search.fit(X_train_scaled, y_train)\n",
        "\n",
        "# Find the best parameters\n",
        "best_params = grid_search.best_params_\n",
        "print(\"Best Parameters:\", best_params)\n"
      ],
      "metadata": {
        "colab": {
          "base_uri": "https://localhost:8080/"
        },
        "id": "BJ8R2Ie3a6Xd",
        "outputId": "f922ad23-3bd5-4bbb-cbd8-2a15623b66c1"
      },
      "execution_count": null,
      "outputs": [
        {
          "output_type": "stream",
          "name": "stdout",
          "text": [
            "Fitting 5 folds for each of 12 candidates, totalling 60 fits\n",
            "[CV] END ...................max_depth=None, n_estimators=100; total time=   0.3s\n",
            "[CV] END ...................max_depth=None, n_estimators=100; total time=   0.3s\n",
            "[CV] END ...................max_depth=None, n_estimators=100; total time=   0.3s\n",
            "[CV] END ...................max_depth=None, n_estimators=100; total time=   0.2s\n",
            "[CV] END ...................max_depth=None, n_estimators=100; total time=   0.2s\n",
            "[CV] END ...................max_depth=None, n_estimators=200; total time=   0.5s\n",
            "[CV] END ...................max_depth=None, n_estimators=200; total time=   0.4s\n",
            "[CV] END ...................max_depth=None, n_estimators=200; total time=   0.4s\n",
            "[CV] END ...................max_depth=None, n_estimators=200; total time=   0.4s\n",
            "[CV] END ...................max_depth=None, n_estimators=200; total time=   0.5s\n",
            "[CV] END ...................max_depth=None, n_estimators=300; total time=   0.7s\n",
            "[CV] END ...................max_depth=None, n_estimators=300; total time=   0.7s\n",
            "[CV] END ...................max_depth=None, n_estimators=300; total time=   0.7s\n",
            "[CV] END ...................max_depth=None, n_estimators=300; total time=   0.7s\n",
            "[CV] END ...................max_depth=None, n_estimators=300; total time=   0.7s\n",
            "[CV] END .....................max_depth=10, n_estimators=100; total time=   0.2s\n",
            "[CV] END .....................max_depth=10, n_estimators=100; total time=   0.2s\n",
            "[CV] END .....................max_depth=10, n_estimators=100; total time=   0.2s\n",
            "[CV] END .....................max_depth=10, n_estimators=100; total time=   0.2s\n",
            "[CV] END .....................max_depth=10, n_estimators=100; total time=   0.2s\n",
            "[CV] END .....................max_depth=10, n_estimators=200; total time=   0.4s\n",
            "[CV] END .....................max_depth=10, n_estimators=200; total time=   0.4s\n",
            "[CV] END .....................max_depth=10, n_estimators=200; total time=   0.4s\n",
            "[CV] END .....................max_depth=10, n_estimators=200; total time=   0.4s\n",
            "[CV] END .....................max_depth=10, n_estimators=200; total time=   0.4s\n",
            "[CV] END .....................max_depth=10, n_estimators=300; total time=   0.7s\n",
            "[CV] END .....................max_depth=10, n_estimators=300; total time=   0.8s\n",
            "[CV] END .....................max_depth=10, n_estimators=300; total time=   0.8s\n",
            "[CV] END .....................max_depth=10, n_estimators=300; total time=   0.8s\n",
            "[CV] END .....................max_depth=10, n_estimators=300; total time=   0.6s\n",
            "[CV] END .....................max_depth=20, n_estimators=100; total time=   0.2s\n",
            "[CV] END .....................max_depth=20, n_estimators=100; total time=   0.2s\n",
            "[CV] END .....................max_depth=20, n_estimators=100; total time=   0.2s\n",
            "[CV] END .....................max_depth=20, n_estimators=100; total time=   0.2s\n",
            "[CV] END .....................max_depth=20, n_estimators=100; total time=   0.2s\n",
            "[CV] END .....................max_depth=20, n_estimators=200; total time=   0.4s\n",
            "[CV] END .....................max_depth=20, n_estimators=200; total time=   0.4s\n",
            "[CV] END .....................max_depth=20, n_estimators=200; total time=   0.4s\n",
            "[CV] END .....................max_depth=20, n_estimators=200; total time=   0.4s\n",
            "[CV] END .....................max_depth=20, n_estimators=200; total time=   0.4s\n",
            "[CV] END .....................max_depth=20, n_estimators=300; total time=   0.7s\n",
            "[CV] END .....................max_depth=20, n_estimators=300; total time=   0.8s\n",
            "[CV] END .....................max_depth=20, n_estimators=300; total time=   0.7s\n",
            "[CV] END .....................max_depth=20, n_estimators=300; total time=   0.7s\n",
            "[CV] END .....................max_depth=20, n_estimators=300; total time=   0.7s\n",
            "[CV] END .....................max_depth=30, n_estimators=100; total time=   0.2s\n",
            "[CV] END .....................max_depth=30, n_estimators=100; total time=   0.2s\n",
            "[CV] END .....................max_depth=30, n_estimators=100; total time=   0.2s\n",
            "[CV] END .....................max_depth=30, n_estimators=100; total time=   0.2s\n",
            "[CV] END .....................max_depth=30, n_estimators=100; total time=   0.2s\n",
            "[CV] END .....................max_depth=30, n_estimators=200; total time=   0.5s\n",
            "[CV] END .....................max_depth=30, n_estimators=200; total time=   0.4s\n",
            "[CV] END .....................max_depth=30, n_estimators=200; total time=   0.5s\n",
            "[CV] END .....................max_depth=30, n_estimators=200; total time=   0.6s\n",
            "[CV] END .....................max_depth=30, n_estimators=200; total time=   0.6s\n",
            "[CV] END .....................max_depth=30, n_estimators=300; total time=   0.9s\n",
            "[CV] END .....................max_depth=30, n_estimators=300; total time=   0.8s\n",
            "[CV] END .....................max_depth=30, n_estimators=300; total time=   0.7s\n",
            "[CV] END .....................max_depth=30, n_estimators=300; total time=   0.7s\n",
            "[CV] END .....................max_depth=30, n_estimators=300; total time=   0.7s\n",
            "Best Parameters: {'max_depth': None, 'n_estimators': 200}\n"
          ]
        }
      ]
    },
    {
      "cell_type": "code",
      "source": [
        "best_rf = grid_search.best_estimator_\n",
        "\n",
        "# Predict on the test set using the best model\n",
        "y_pred_best_rf = best_rf.predict(X_test_scaled)\n",
        "\n",
        "# Evaluate the best Random Forest model\n",
        "accuracy_best_rf = accuracy_score(y_test, y_pred_best_rf)\n",
        "class_report_best_rf = classification_report(y_test, y_pred_best_rf)\n",
        "\n",
        "print(\"Accuracy of Best Model:\", accuracy_best_rf)\n",
        "print(\"Classification Report of Best Model:\\n\", class_report_best_rf)\n"
      ],
      "metadata": {
        "colab": {
          "base_uri": "https://localhost:8080/"
        },
        "id": "n3_f4jx2a7b4",
        "outputId": "d0525f1c-efbf-4173-8889-c84a36f8235c"
      },
      "execution_count": null,
      "outputs": [
        {
          "output_type": "stream",
          "name": "stdout",
          "text": [
            "Accuracy of Best Model: 0.9527186761229315\n",
            "Classification Report of Best Model:\n",
            "               precision    recall  f1-score   support\n",
            "\n",
            "         1.0       0.95      1.00      0.97       330\n",
            "         2.0       0.93      0.72      0.82        58\n",
            "         3.0       1.00      0.91      0.96        35\n",
            "\n",
            "    accuracy                           0.95       423\n",
            "   macro avg       0.96      0.88      0.91       423\n",
            "weighted avg       0.95      0.95      0.95       423\n",
            "\n"
          ]
        }
      ]
    },
    {
      "cell_type": "code",
      "source": [
        "import matplotlib.pyplot as plt\n",
        "import numpy as np\n",
        "\n",
        "feature_importances_rf = best_rf.feature_importances_\n",
        "feature_names = X_train.columns\n",
        "\n",
        "# Sort the feature importances in descending order\n",
        "sorted_indices_rf = np.argsort(feature_importances_rf)[::-1]\n",
        "\n",
        "plt.figure(figsize=(10, 6))\n",
        "plt.title(\"Feature Importances in Random Forest\")\n",
        "plt.bar(range(X_train.shape[1]), feature_importances_rf[sorted_indices_rf], align='center')\n",
        "plt.xticks(range(X_train.shape[1]), feature_names[sorted_indices_rf], rotation=90)\n",
        "plt.tight_layout()\n",
        "plt.show()"
      ],
      "metadata": {
        "colab": {
          "base_uri": "https://localhost:8080/",
          "height": 607
        },
        "id": "IbK2uChgK4mz",
        "outputId": "27a7fb7d-c76e-43e9-d453-b1fe2219dbb3"
      },
      "execution_count": 21,
      "outputs": [
        {
          "output_type": "display_data",
          "data": {
            "text/plain": [
              "<Figure size 1000x600 with 1 Axes>"
            ],
            "image/png": "[encoded data removed]"
          },
          "metadata": {}
        }
      ]
    },
    {
      "cell_type": "markdown",
      "source": [
        "### Gradient Boosting"
      ],
      "metadata": {
        "id": "AIZiMKZbeEUC"
      }
    },
    {
      "cell_type": "code",
      "source": [
        "from sklearn.ensemble import GradientBoostingClassifier\n",
        "from sklearn.model_selection import GridSearchCV\n",
        "\n",
        "# Define the parameter grid\n",
        "param_grid = {\n",
        "    'n_estimators': [100, 200, 300],  # Number of boosting stages\n",
        "    'max_depth': [3, 4, 5],           # Maximum depth of individual trees\n",
        "    'learning_rate': [0.01, 0.1, 0.2] # Learning rate\n",
        "}\n",
        "\n",
        "# Initialize the Gradient Boosting Classifier\n",
        "gb = GradientBoostingClassifier(random_state=42)\n",
        "\n",
        "# Initialize the Grid Search with Cross-Validation\n",
        "grid_search = GridSearchCV(estimator=gb, param_grid=param_grid, cv=5, scoring='accuracy', verbose=2)\n",
        "\n",
        "# Fit the grid search to the data\n",
        "grid_search.fit(X_train_scaled, y_train)\n",
        "\n",
        "# Find the best parameters\n",
        "best_params = grid_search.best_params_\n",
        "print(\"Best Parameters:\", best_params)"
      ],
      "metadata": {
        "colab": {
          "base_uri": "https://localhost:8080/"
        },
        "id": "yYv79YxIeI0T",
        "outputId": "7ff368c9-6ab9-41fd-8b44-0cf7d7bad4f0"
      },
      "execution_count": null,
      "outputs": [
        {
          "output_type": "stream",
          "name": "stdout",
          "text": [
            "Fitting 5 folds for each of 27 candidates, totalling 135 fits\n",
            "[CV] END ..learning_rate=0.01, max_depth=3, n_estimators=100; total time=   1.1s\n",
            "[CV] END ..learning_rate=0.01, max_depth=3, n_estimators=100; total time=   1.1s\n",
            "[CV] END ..learning_rate=0.01, max_depth=3, n_estimators=100; total time=   1.2s\n",
            "[CV] END ..learning_rate=0.01, max_depth=3, n_estimators=100; total time=   1.8s\n",
            "[CV] END ..learning_rate=0.01, max_depth=3, n_estimators=100; total time=   2.3s\n",
            "[CV] END ..learning_rate=0.01, max_depth=3, n_estimators=200; total time=   2.9s\n",
            "[CV] END ..learning_rate=0.01, max_depth=3, n_estimators=200; total time=   2.9s\n",
            "[CV] END ..learning_rate=0.01, max_depth=3, n_estimators=200; total time=   2.5s\n",
            "[CV] END ..learning_rate=0.01, max_depth=3, n_estimators=200; total time=   2.4s\n",
            "[CV] END ..learning_rate=0.01, max_depth=3, n_estimators=200; total time=   2.1s\n",
            "[CV] END ..learning_rate=0.01, max_depth=3, n_estimators=300; total time=   3.2s\n",
            "[CV] END ..learning_rate=0.01, max_depth=3, n_estimators=300; total time=   3.2s\n",
            "[CV] END ..learning_rate=0.01, max_depth=3, n_estimators=300; total time=   3.6s\n",
            "[CV] END ..learning_rate=0.01, max_depth=3, n_estimators=300; total time=   3.2s\n",
            "[CV] END ..learning_rate=0.01, max_depth=3, n_estimators=300; total time=   3.2s\n",
            "[CV] END ..learning_rate=0.01, max_depth=4, n_estimators=100; total time=   1.4s\n",
            "[CV] END ..learning_rate=0.01, max_depth=4, n_estimators=100; total time=   1.4s\n",
            "[CV] END ..learning_rate=0.01, max_depth=4, n_estimators=100; total time=   1.5s\n",
            "[CV] END ..learning_rate=0.01, max_depth=4, n_estimators=100; total time=   1.6s\n",
            "[CV] END ..learning_rate=0.01, max_depth=4, n_estimators=100; total time=   1.4s\n",
            "[CV] END ..learning_rate=0.01, max_depth=4, n_estimators=200; total time=   2.8s\n",
            "[CV] END ..learning_rate=0.01, max_depth=4, n_estimators=200; total time=   2.7s\n",
            "[CV] END ..learning_rate=0.01, max_depth=4, n_estimators=200; total time=   2.8s\n",
            "[CV] END ..learning_rate=0.01, max_depth=4, n_estimators=200; total time=   3.2s\n",
            "[CV] END ..learning_rate=0.01, max_depth=4, n_estimators=200; total time=   2.8s\n",
            "[CV] END ..learning_rate=0.01, max_depth=4, n_estimators=300; total time=   4.1s\n",
            "[CV] END ..learning_rate=0.01, max_depth=4, n_estimators=300; total time=   4.9s\n",
            "[CV] END ..learning_rate=0.01, max_depth=4, n_estimators=300; total time=   4.2s\n",
            "[CV] END ..learning_rate=0.01, max_depth=4, n_estimators=300; total time=   4.1s\n",
            "[CV] END ..learning_rate=0.01, max_depth=4, n_estimators=300; total time=   4.5s\n",
            "[CV] END ..learning_rate=0.01, max_depth=5, n_estimators=100; total time=   1.7s\n",
            "[CV] END ..learning_rate=0.01, max_depth=5, n_estimators=100; total time=   1.7s\n",
            "[CV] END ..learning_rate=0.01, max_depth=5, n_estimators=100; total time=   1.7s\n",
            "[CV] END ..learning_rate=0.01, max_depth=5, n_estimators=100; total time=   1.7s\n",
            "[CV] END ..learning_rate=0.01, max_depth=5, n_estimators=100; total time=   1.7s\n",
            "[CV] END ..learning_rate=0.01, max_depth=5, n_estimators=200; total time=   3.9s\n",
            "[CV] END ..learning_rate=0.01, max_depth=5, n_estimators=200; total time=   3.4s\n",
            "[CV] END ..learning_rate=0.01, max_depth=5, n_estimators=200; total time=   3.4s\n",
            "[CV] END ..learning_rate=0.01, max_depth=5, n_estimators=200; total time=   3.8s\n",
            "[CV] END ..learning_rate=0.01, max_depth=5, n_estimators=200; total time=   3.7s\n",
            "[CV] END ..learning_rate=0.01, max_depth=5, n_estimators=300; total time=   5.3s\n",
            "[CV] END ..learning_rate=0.01, max_depth=5, n_estimators=300; total time=   5.5s\n",
            "[CV] END ..learning_rate=0.01, max_depth=5, n_estimators=300; total time=   5.1s\n",
            "[CV] END ..learning_rate=0.01, max_depth=5, n_estimators=300; total time=   5.3s\n",
            "[CV] END ..learning_rate=0.01, max_depth=5, n_estimators=300; total time=   5.4s\n",
            "[CV] END ...learning_rate=0.1, max_depth=3, n_estimators=100; total time=   1.1s\n",
            "[CV] END ...learning_rate=0.1, max_depth=3, n_estimators=100; total time=   1.1s\n",
            "[CV] END ...learning_rate=0.1, max_depth=3, n_estimators=100; total time=   1.1s\n",
            "[CV] END ...learning_rate=0.1, max_depth=3, n_estimators=100; total time=   1.1s\n",
            "[CV] END ...learning_rate=0.1, max_depth=3, n_estimators=100; total time=   1.1s\n",
            "[CV] END ...learning_rate=0.1, max_depth=3, n_estimators=200; total time=   2.4s\n",
            "[CV] END ...learning_rate=0.1, max_depth=3, n_estimators=200; total time=   2.3s\n",
            "[CV] END ...learning_rate=0.1, max_depth=3, n_estimators=200; total time=   2.1s\n",
            "[CV] END ...learning_rate=0.1, max_depth=3, n_estimators=200; total time=   2.1s\n",
            "[CV] END ...learning_rate=0.1, max_depth=3, n_estimators=200; total time=   2.4s\n",
            "[CV] END ...learning_rate=0.1, max_depth=3, n_estimators=300; total time=   3.4s\n",
            "[CV] END ...learning_rate=0.1, max_depth=3, n_estimators=300; total time=   3.3s\n",
            "[CV] END ...learning_rate=0.1, max_depth=3, n_estimators=300; total time=   3.2s\n",
            "[CV] END ...learning_rate=0.1, max_depth=3, n_estimators=300; total time=   3.2s\n",
            "[CV] END ...learning_rate=0.1, max_depth=3, n_estimators=300; total time=   3.6s\n",
            "[CV] END ...learning_rate=0.1, max_depth=4, n_estimators=100; total time=   1.4s\n",
            "[CV] END ...learning_rate=0.1, max_depth=4, n_estimators=100; total time=   1.4s\n",
            "[CV] END ...learning_rate=0.1, max_depth=4, n_estimators=100; total time=   1.4s\n",
            "[CV] END ...learning_rate=0.1, max_depth=4, n_estimators=100; total time=   1.4s\n",
            "[CV] END ...learning_rate=0.1, max_depth=4, n_estimators=100; total time=   1.4s\n",
            "[CV] END ...learning_rate=0.1, max_depth=4, n_estimators=200; total time=   2.8s\n",
            "[CV] END ...learning_rate=0.1, max_depth=4, n_estimators=200; total time=   3.2s\n",
            "[CV] END ...learning_rate=0.1, max_depth=4, n_estimators=200; total time=   2.8s\n",
            "[CV] END ...learning_rate=0.1, max_depth=4, n_estimators=200; total time=   2.8s\n",
            "[CV] END ...learning_rate=0.1, max_depth=4, n_estimators=200; total time=   2.8s\n",
            "[CV] END ...learning_rate=0.1, max_depth=4, n_estimators=300; total time=   4.6s\n",
            "[CV] END ...learning_rate=0.1, max_depth=4, n_estimators=300; total time=   4.2s\n",
            "[CV] END ...learning_rate=0.1, max_depth=4, n_estimators=300; total time=   4.2s\n",
            "[CV] END ...learning_rate=0.1, max_depth=4, n_estimators=300; total time=   4.6s\n",
            "[CV] END ...learning_rate=0.1, max_depth=4, n_estimators=300; total time=   4.2s\n",
            "[CV] END ...learning_rate=0.1, max_depth=5, n_estimators=100; total time=   1.7s\n",
            "[CV] END ...learning_rate=0.1, max_depth=5, n_estimators=100; total time=   1.7s\n",
            "[CV] END ...learning_rate=0.1, max_depth=5, n_estimators=100; total time=   1.9s\n",
            "[CV] END ...learning_rate=0.1, max_depth=5, n_estimators=100; total time=   2.0s\n",
            "[CV] END ...learning_rate=0.1, max_depth=5, n_estimators=100; total time=   1.7s\n",
            "[CV] END ...learning_rate=0.1, max_depth=5, n_estimators=200; total time=   3.4s\n",
            "[CV] END ...learning_rate=0.1, max_depth=5, n_estimators=200; total time=   3.4s\n",
            "[CV] END ...learning_rate=0.1, max_depth=5, n_estimators=200; total time=   3.9s\n",
            "[CV] END ...learning_rate=0.1, max_depth=5, n_estimators=200; total time=   3.4s\n",
            "[CV] END ...learning_rate=0.1, max_depth=5, n_estimators=200; total time=   3.4s\n",
            "[CV] END ...learning_rate=0.1, max_depth=5, n_estimators=300; total time=   5.6s\n",
            "[CV] END ...learning_rate=0.1, max_depth=5, n_estimators=300; total time=   5.1s\n",
            "[CV] END ...learning_rate=0.1, max_depth=5, n_estimators=300; total time=   5.3s\n",
            "[CV] END ...learning_rate=0.1, max_depth=5, n_estimators=300; total time=   5.5s\n",
            "[CV] END ...learning_rate=0.1, max_depth=5, n_estimators=300; total time=   5.7s\n",
            "[CV] END ...learning_rate=0.2, max_depth=3, n_estimators=100; total time=   1.2s\n",
            "[CV] END ...learning_rate=0.2, max_depth=3, n_estimators=100; total time=   1.3s\n",
            "[CV] END ...learning_rate=0.2, max_depth=3, n_estimators=100; total time=   1.2s\n",
            "[CV] END ...learning_rate=0.2, max_depth=3, n_estimators=100; total time=   1.1s\n",
            "[CV] END ...learning_rate=0.2, max_depth=3, n_estimators=100; total time=   1.1s\n",
            "[CV] END ...learning_rate=0.2, max_depth=3, n_estimators=200; total time=   2.2s\n",
            "[CV] END ...learning_rate=0.2, max_depth=3, n_estimators=200; total time=   2.1s\n",
            "[CV] END ...learning_rate=0.2, max_depth=3, n_estimators=200; total time=   2.1s\n",
            "[CV] END ...learning_rate=0.2, max_depth=3, n_estimators=200; total time=   2.5s\n",
            "[CV] END ...learning_rate=0.2, max_depth=3, n_estimators=200; total time=   2.3s\n",
            "[CV] END ...learning_rate=0.2, max_depth=3, n_estimators=300; total time=   3.2s\n",
            "[CV] END ...learning_rate=0.2, max_depth=3, n_estimators=300; total time=   3.2s\n",
            "[CV] END ...learning_rate=0.2, max_depth=3, n_estimators=300; total time=   3.5s\n",
            "[CV] END ...learning_rate=0.2, max_depth=3, n_estimators=300; total time=   3.4s\n",
            "[CV] END ...learning_rate=0.2, max_depth=3, n_estimators=300; total time=   3.2s\n",
            "[CV] END ...learning_rate=0.2, max_depth=4, n_estimators=100; total time=   1.4s\n",
            "[CV] END ...learning_rate=0.2, max_depth=4, n_estimators=100; total time=   1.4s\n",
            "[CV] END ...learning_rate=0.2, max_depth=4, n_estimators=100; total time=   1.4s\n",
            "[CV] END ...learning_rate=0.2, max_depth=4, n_estimators=100; total time=   1.6s\n",
            "[CV] END ...learning_rate=0.2, max_depth=4, n_estimators=100; total time=   1.6s\n",
            "[CV] END ...learning_rate=0.2, max_depth=4, n_estimators=200; total time=   2.8s\n",
            "[CV] END ...learning_rate=0.2, max_depth=4, n_estimators=200; total time=   2.8s\n",
            "[CV] END ...learning_rate=0.2, max_depth=4, n_estimators=200; total time=   2.8s\n",
            "[CV] END ...learning_rate=0.2, max_depth=4, n_estimators=200; total time=   3.1s\n",
            "[CV] END ...learning_rate=0.2, max_depth=4, n_estimators=200; total time=   2.9s\n",
            "[CV] END ...learning_rate=0.2, max_depth=4, n_estimators=300; total time=   4.1s\n",
            "[CV] END ...learning_rate=0.2, max_depth=4, n_estimators=300; total time=   4.2s\n",
            "[CV] END ...learning_rate=0.2, max_depth=4, n_estimators=300; total time=   4.4s\n",
            "[CV] END ...learning_rate=0.2, max_depth=4, n_estimators=300; total time=   4.1s\n",
            "[CV] END ...learning_rate=0.2, max_depth=4, n_estimators=300; total time=   4.3s\n",
            "[CV] END ...learning_rate=0.2, max_depth=5, n_estimators=100; total time=   2.0s\n",
            "[CV] END ...learning_rate=0.2, max_depth=5, n_estimators=100; total time=   1.7s\n",
            "[CV] END ...learning_rate=0.2, max_depth=5, n_estimators=100; total time=   1.7s\n",
            "[CV] END ...learning_rate=0.2, max_depth=5, n_estimators=100; total time=   1.7s\n",
            "[CV] END ...learning_rate=0.2, max_depth=5, n_estimators=100; total time=   1.7s\n",
            "[CV] END ...learning_rate=0.2, max_depth=5, n_estimators=200; total time=   3.6s\n",
            "[CV] END ...learning_rate=0.2, max_depth=5, n_estimators=200; total time=   3.7s\n",
            "[CV] END ...learning_rate=0.2, max_depth=5, n_estimators=200; total time=   3.4s\n",
            "[CV] END ...learning_rate=0.2, max_depth=5, n_estimators=200; total time=   3.5s\n",
            "[CV] END ...learning_rate=0.2, max_depth=5, n_estimators=200; total time=   3.9s\n",
            "[CV] END ...learning_rate=0.2, max_depth=5, n_estimators=300; total time=   4.5s\n",
            "[CV] END ...learning_rate=0.2, max_depth=5, n_estimators=300; total time=   4.5s\n",
            "[CV] END ...learning_rate=0.2, max_depth=5, n_estimators=300; total time=   5.2s\n",
            "[CV] END ...learning_rate=0.2, max_depth=5, n_estimators=300; total time=   4.7s\n",
            "[CV] END ...learning_rate=0.2, max_depth=5, n_estimators=300; total time=   4.8s\n",
            "Best Parameters: {'learning_rate': 0.1, 'max_depth': 5, 'n_estimators': 300}\n"
          ]
        }
      ]
    },
    {
      "cell_type": "code",
      "source": [
        "best_gb = grid_search.best_estimator_\n",
        "\n",
        "# Predict on the test set using the best model\n",
        "y_pred_best_gb = best_gb.predict(X_test_scaled)\n",
        "\n",
        "# Evaluate the best Gradient Boosting model\n",
        "accuracy_best_gb = accuracy_score(y_test, y_pred_best_gb)\n",
        "class_report_best_gb = classification_report(y_test, y_pred_best_gb)\n",
        "\n",
        "print(\"Accuracy of Best Model:\", accuracy_best_gb)\n",
        "print(\"Classification Report of Best Model:\\n\", class_report_best_gb)"
      ],
      "metadata": {
        "colab": {
          "base_uri": "https://localhost:8080/"
        },
        "id": "sgOXuVw5ePsn",
        "outputId": "875581a8-2cbe-4a62-f0f3-fe9e946494e3"
      },
      "execution_count": null,
      "outputs": [
        {
          "output_type": "stream",
          "name": "stdout",
          "text": [
            "Accuracy of Best Model: 0.9550827423167849\n",
            "Classification Report of Best Model:\n",
            "               precision    recall  f1-score   support\n",
            "\n",
            "         1.0       0.96      0.99      0.97       330\n",
            "         2.0       0.94      0.76      0.84        58\n",
            "         3.0       0.94      0.94      0.94        35\n",
            "\n",
            "    accuracy                           0.96       423\n",
            "   macro avg       0.95      0.90      0.92       423\n",
            "weighted avg       0.95      0.96      0.95       423\n",
            "\n"
          ]
        }
      ]
    },
    {
      "cell_type": "code",
      "source": [
        "feature_importances_gb = best_gb.feature_importances_\n",
        "\n",
        "# Sort the feature importances in descending order\n",
        "sorted_indices_gb = np.argsort(feature_importances_gb)[::-1]\n",
        "\n",
        "plt.figure(figsize=(10, 6))\n",
        "plt.title(\"Feature Importances in Gradient Boosting\")\n",
        "plt.bar(range(X_train.shape[1]), feature_importances_gb[sorted_indices_gb], align='center')\n",
        "plt.xticks(range(X_train.shape[1]), feature_names[sorted_indices_gb], rotation=90)\n",
        "plt.tight_layout()\n",
        "plt.show()"
      ],
      "metadata": {
        "colab": {
          "base_uri": "https://localhost:8080/",
          "height": 607
        },
        "id": "KgPYemT6LL1b",
        "outputId": "8b483e72-645f-4191-eaf1-a75aad2460cf"
      },
      "execution_count": 22,
      "outputs": [
        {
          "output_type": "display_data",
          "data": {
            "text/plain": [
              "<Figure size 1000x600 with 1 Axes>"
            ],
            "image/png": "[encoded data removed]"
          },
          "metadata": {}
        }
      ]
    }
  ]
}